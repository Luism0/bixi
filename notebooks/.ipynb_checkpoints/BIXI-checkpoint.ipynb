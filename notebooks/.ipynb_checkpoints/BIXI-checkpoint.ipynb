{
 "cells": [
  {
   "cell_type": "code",
   "execution_count": 2,
   "metadata": {},
   "outputs": [
    {
     "name": "stderr",
     "output_type": "stream",
     "text": [
      "C:\\Users\\34633\\anaconda3\\lib\\site-packages\\ipykernel_launcher.py:2: FutureWarning: Passing a negative integer is deprecated in version 1.0 and will not be supported in future version. Instead, use None to not limit the column width.\n",
      "  \n"
     ]
    }
   ],
   "source": [
    "import pandas as pd\n",
    "pd.set_option('display.max_colwidth', -1)"
   ]
  },
  {
   "cell_type": "code",
   "execution_count": 3,
   "metadata": {},
   "outputs": [],
   "source": [
    "stations = pd.read_json(r'\\Users\\34633\\Notebooks\\data\\BIXI\\stations.json')\n",
    "\n",
    "stations_2014 = pd.read_csv (r'\\Users\\34633\\Notebooks\\data\\BIXI\\stations_2014.csv')\n",
    "stations_2015 = pd.read_csv (r'\\Users\\34633\\Notebooks\\data\\BIXI\\stations_2014.csv')\n",
    "stations_2016 = pd.read_csv (r'\\Users\\34633\\Notebooks\\data\\BIXI\\stations_2014.csv')\n",
    "stations_2017 = pd.read_csv (r'\\Users\\34633\\Notebooks\\data\\BIXI\\stations_2014.csv')"
   ]
  },
  {
   "cell_type": "code",
   "execution_count": 8,
   "metadata": {},
   "outputs": [
    {
     "data": {
      "text/html": [
       "<div>\n",
       "<style scoped>\n",
       "    .dataframe tbody tr th:only-of-type {\n",
       "        vertical-align: middle;\n",
       "    }\n",
       "\n",
       "    .dataframe tbody tr th {\n",
       "        vertical-align: top;\n",
       "    }\n",
       "\n",
       "    .dataframe thead th {\n",
       "        text-align: right;\n",
       "    }\n",
       "</style>\n",
       "<table border=\"1\" class=\"dataframe\">\n",
       "  <thead>\n",
       "    <tr style=\"text-align: right;\">\n",
       "      <th></th>\n",
       "      <th>code</th>\n",
       "      <th>name</th>\n",
       "      <th>latitude</th>\n",
       "      <th>longitude</th>\n",
       "    </tr>\n",
       "  </thead>\n",
       "  <tbody>\n",
       "    <tr>\n",
       "      <th>0</th>\n",
       "      <td>6209</td>\n",
       "      <td>Milton / Clark</td>\n",
       "      <td>45.512520</td>\n",
       "      <td>-73.570620</td>\n",
       "    </tr>\n",
       "    <tr>\n",
       "      <th>1</th>\n",
       "      <td>6436</td>\n",
       "      <td>Côte St-Antoine / Clarke</td>\n",
       "      <td>45.486452</td>\n",
       "      <td>-73.595234</td>\n",
       "    </tr>\n",
       "    <tr>\n",
       "      <th>2</th>\n",
       "      <td>6214</td>\n",
       "      <td>Square St-Louis</td>\n",
       "      <td>45.517350</td>\n",
       "      <td>-73.569060</td>\n",
       "    </tr>\n",
       "    <tr>\n",
       "      <th>3</th>\n",
       "      <td>6248</td>\n",
       "      <td>St-Dominique / Rachel</td>\n",
       "      <td>45.518593</td>\n",
       "      <td>-73.581566</td>\n",
       "    </tr>\n",
       "    <tr>\n",
       "      <th>4</th>\n",
       "      <td>6164</td>\n",
       "      <td>Chambord / Laurier</td>\n",
       "      <td>45.532955</td>\n",
       "      <td>-73.584194</td>\n",
       "    </tr>\n",
       "    <tr>\n",
       "      <th>...</th>\n",
       "      <td>...</td>\n",
       "      <td>...</td>\n",
       "      <td>...</td>\n",
       "      <td>...</td>\n",
       "    </tr>\n",
       "    <tr>\n",
       "      <th>454</th>\n",
       "      <td>6136</td>\n",
       "      <td>Métro Laurier (Rivard / Laurier)</td>\n",
       "      <td>45.527616</td>\n",
       "      <td>-73.589115</td>\n",
       "    </tr>\n",
       "    <tr>\n",
       "      <th>455</th>\n",
       "      <td>6743</td>\n",
       "      <td>St-Marc / Sherbrooke</td>\n",
       "      <td>45.494514</td>\n",
       "      <td>-73.583368</td>\n",
       "    </tr>\n",
       "    <tr>\n",
       "      <th>456</th>\n",
       "      <td>6051</td>\n",
       "      <td>de Gaspé / Marmier</td>\n",
       "      <td>45.529686</td>\n",
       "      <td>-73.601728</td>\n",
       "    </tr>\n",
       "    <tr>\n",
       "      <th>457</th>\n",
       "      <td>6178</td>\n",
       "      <td>Rivard / Rachel</td>\n",
       "      <td>45.522278</td>\n",
       "      <td>-73.577591</td>\n",
       "    </tr>\n",
       "    <tr>\n",
       "      <th>458</th>\n",
       "      <td>6226</td>\n",
       "      <td>Hôpital Maisonneuve-Rosemont (Rosemont / Chatelain)</td>\n",
       "      <td>45.575707</td>\n",
       "      <td>-73.561562</td>\n",
       "    </tr>\n",
       "  </tbody>\n",
       "</table>\n",
       "<p>459 rows × 4 columns</p>\n",
       "</div>"
      ],
      "text/plain": [
       "     code                                                 name   latitude  \\\n",
       "0    6209  Milton / Clark                                       45.512520   \n",
       "1    6436  Côte St-Antoine / Clarke                             45.486452   \n",
       "2    6214  Square St-Louis                                      45.517350   \n",
       "3    6248  St-Dominique / Rachel                                45.518593   \n",
       "4    6164  Chambord / Laurier                                   45.532955   \n",
       "..    ...                 ...                                         ...   \n",
       "454  6136  Métro Laurier (Rivard / Laurier)                     45.527616   \n",
       "455  6743  St-Marc / Sherbrooke                                 45.494514   \n",
       "456  6051  de Gaspé / Marmier                                   45.529686   \n",
       "457  6178  Rivard / Rachel                                      45.522278   \n",
       "458  6226  Hôpital Maisonneuve-Rosemont (Rosemont / Chatelain)  45.575707   \n",
       "\n",
       "     longitude  \n",
       "0   -73.570620  \n",
       "1   -73.595234  \n",
       "2   -73.569060  \n",
       "3   -73.581566  \n",
       "4   -73.584194  \n",
       "..         ...  \n",
       "454 -73.589115  \n",
       "455 -73.583368  \n",
       "456 -73.601728  \n",
       "457 -73.577591  \n",
       "458 -73.561562  \n",
       "\n",
       "[459 rows x 4 columns]"
      ]
     },
     "metadata": {},
     "output_type": "display_data"
    }
   ],
   "source": [
    "display(stations_2014)"
   ]
  },
  {
   "cell_type": "code",
   "execution_count": 13,
   "metadata": {},
   "outputs": [
    {
     "data": {
      "application/javascript": [
       "require.config({\n",
       "    paths: {\n",
       "        d3: 'https://d3js.org/d3.v5.min'\n",
       "    }\n",
       "});\n"
      ],
      "text/plain": [
       "<IPython.core.display.Javascript object>"
      ]
     },
     "metadata": {},
     "output_type": "display_data"
    }
   ],
   "source": [
    "%%javascript\n",
    "require.config({\n",
    "    paths: {\n",
    "        d3: 'https://d3js.org/d3.v5.min'\n",
    "    }\n",
    "});\n"
   ]
  },
  {
   "cell_type": "code",
   "execution_count": 14,
   "metadata": {},
   "outputs": [
    {
     "data": {
      "application/javascript": [
       "(function(element) {\n",
       "    require(['d3'], function(d3) {   \n",
       "        var data = [1, 2, 4, 8, 16, 8, 4, 2, 1]\n",
       "\n",
       "        var svg = d3.select(element.get(0)).append('svg')\n",
       "            .attr('width', 400)\n",
       "            .attr('height', 200);\n",
       "        svg.selectAll('circle')\n",
       "            .data(data)\n",
       "            .enter()\n",
       "            .append('circle')\n",
       "            .attr(\"cx\", function(d, i) {return 40 * (i + 1);})\n",
       "            .attr(\"cy\", function(d, i) {return 100 + 30 * (i % 3 - 1);})\n",
       "            .style(\"fill\", \"#1570a4\")\n",
       "            .transition().duration(2000)\n",
       "            .attr(\"r\", function(d) {return 2*d;})\n",
       "        ;\n",
       "    })\n",
       "})(element);\n"
      ],
      "text/plain": [
       "<IPython.core.display.Javascript object>"
      ]
     },
     "metadata": {},
     "output_type": "display_data"
    }
   ],
   "source": [
    "%%javascript\n",
    "(function(element) {\n",
    "    require(['d3'], function(d3) {   \n",
    "        var data = [1, 2, 4, 8, 16, 8, 4, 2, 1]\n",
    "\n",
    "        var svg = d3.select(element.get(0)).append('svg')\n",
    "            .attr('width', 400)\n",
    "            .attr('height', 200);\n",
    "        svg.selectAll('circle')\n",
    "            .data(data)\n",
    "            .enter()\n",
    "            .append('circle')\n",
    "            .attr(\"cx\", function(d, i) {return 40 * (i + 1);})\n",
    "            .attr(\"cy\", function(d, i) {return 100 + 30 * (i % 3 - 1);})\n",
    "            .style(\"fill\", \"#1570a4\")\n",
    "            .transition().duration(2000)\n",
    "            .attr(\"r\", function(d) {return 2*d;})\n",
    "        ;\n",
    "    })\n",
    "})(element);"
   ]
  },
  {
   "cell_type": "code",
   "execution_count": 15,
   "metadata": {},
   "outputs": [
    {
     "ename": "ModuleNotFoundError",
     "evalue": "No module named 'ipyleaflet'",
     "output_type": "error",
     "traceback": [
      "\u001b[1;31m---------------------------------------------------------------------------\u001b[0m",
      "\u001b[1;31mModuleNotFoundError\u001b[0m                       Traceback (most recent call last)",
      "\u001b[1;32m<ipython-input-15-60d48fa1889f>\u001b[0m in \u001b[0;36m<module>\u001b[1;34m\u001b[0m\n\u001b[1;32m----> 1\u001b[1;33m \u001b[1;32mimport\u001b[0m \u001b[0mipyleaflet\u001b[0m\u001b[1;33m\u001b[0m\u001b[1;33m\u001b[0m\u001b[0m\n\u001b[0m",
      "\u001b[1;31mModuleNotFoundError\u001b[0m: No module named 'ipyleaflet'"
     ]
    }
   ],
   "source": [
    "import ipyleaflet"
   ]
  },
  {
   "cell_type": "code",
   "execution_count": 4,
   "metadata": {},
   "outputs": [
    {
     "data": {
      "application/vnd.jupyter.widget-view+json": {
       "model_id": "dae2058543264181ab2a7aad5eef4a44",
       "version_major": 2,
       "version_minor": 0
      },
      "text/plain": [
       "Map(center=[45.51252, -73.57061999999999], controls=(ZoomControl(options=['position', 'zoom_in_text', 'zoom_in…"
      ]
     },
     "metadata": {},
     "output_type": "display_data"
    }
   ],
   "source": [
    "from ipyleaflet import Map, Marker\n",
    "\n",
    "center = (stations_2014['latitude'][0], stations_2014['longitude'][0])\n",
    "\n",
    "m = Map(center=center, zoom=15)\n",
    "\n",
    "marker = Marker(location=center, draggable=True)\n",
    "m.add_layer(marker);\n",
    "\n",
    "display(m)\n",
    "\n",
    "# Now that the marker is on the Map, you can drag it with your mouse,\n",
    "# it will automatically update the `marker.location` attribute in Python\n",
    "\n",
    "# You can also update the marker location from Python, that will update the\n",
    "# marker location on the Map:\n",
    "marker.location = (50, 356)"
   ]
  },
  {
   "cell_type": "code",
   "execution_count": 5,
   "metadata": {},
   "outputs": [
    {
     "data": {
      "application/vnd.jupyter.widget-view+json": {
       "model_id": "bb4ef0c9eb154144acf4fd1bb898f8ed",
       "version_major": 2,
       "version_minor": 0
      },
      "text/plain": [
       "Map(center=[45.51252, -73.57061999999999], controls=(ZoomControl(options=['position', 'zoom_in_text', 'zoom_in…"
      ]
     },
     "metadata": {},
     "output_type": "display_data"
    }
   ],
   "source": [
    "from ipyleaflet import Map, Heatmap\n",
    "from random import uniform\n",
    "\n",
    "center = (stations_2014['latitude'][0], stations_2014['longitude'][0])\n",
    "\n",
    "m = Map(center=center, zoom=10)\n",
    "\n",
    "\n",
    "\n",
    "for index, station in stations_2014.iterrows():\n",
    "    marker = Marker(location=(station['latitude'], station['longitude']), draggable=True)\n",
    "    m.add_layer(marker);\n",
    "    \n",
    "m"
   ]
  },
  {
   "cell_type": "code",
   "execution_count": 11,
   "metadata": {},
   "outputs": [
    {
     "data": {
      "application/vnd.jupyter.widget-view+json": {
       "model_id": "1a7e2892923e4938996a76b44b376414",
       "version_major": 2,
       "version_minor": 0
      },
      "text/plain": [
       "Map(center=[45.51252, -73.57061999999999], controls=(ZoomControl(options=['position', 'zoom_in_text', 'zoom_in…"
      ]
     },
     "metadata": {},
     "output_type": "display_data"
    }
   ],
   "source": [
    "\n",
    "\n",
    "from ipyleaflet import Map, Heatmap\n",
    "from random import uniform\n",
    "\n",
    "center = (stations_2014['latitude'][0], stations_2014['longitude'][0])\n",
    "\n",
    "m = Map(center=center, zoom=11)\n",
    "    \n",
    "heatmap = Heatmap(\n",
    "    locations=[[station['latitude'], station['longitude'], 7] for index, station in stations_2014.iterrows()],\n",
    "    radius=10\n",
    ")\n",
    "\n",
    "m.add_layer(heatmap);\n",
    "    \n",
    "m"
   ]
  },
  {
   "cell_type": "code",
   "execution_count": 10,
   "metadata": {},
   "outputs": [
    {
     "data": {
      "application/vnd.jupyter.widget-view+json": {
       "model_id": "865669f7903c448b8478fb73f135f2c2",
       "version_major": 2,
       "version_minor": 0
      },
      "text/plain": [
       "Map(center=[45.51252, -73.57061999999999], controls=(ZoomControl(options=['position', 'zoom_in_text', 'zoom_in…"
      ]
     },
     "metadata": {},
     "output_type": "display_data"
    }
   ],
   "source": [
    "\n",
    "\n",
    "from ipyleaflet import Map, Heatmap\n",
    "from random import uniform\n",
    "\n",
    "center = (stations_2015['latitude'][0], stations_2015['longitude'][0])\n",
    "\n",
    "m = Map(center=center, zoom=11)\n",
    "    \n",
    "heatmap = Heatmap(\n",
    "    locations=[[station['latitude'], station['longitude'], 7] for index, station in stations_2015.iterrows()],\n",
    "    radius=10\n",
    ")\n",
    "\n",
    "m.add_layer(heatmap);\n",
    "    \n",
    "m"
   ]
  },
  {
   "cell_type": "code",
   "execution_count": 12,
   "metadata": {},
   "outputs": [
    {
     "data": {
      "application/vnd.jupyter.widget-view+json": {
       "model_id": "11a643e2f7cb4a8094de947e323bc48e",
       "version_major": 2,
       "version_minor": 0
      },
      "text/plain": [
       "Map(center=[45.51252, -73.57061999999999], controls=(ZoomControl(options=['position', 'zoom_in_text', 'zoom_in…"
      ]
     },
     "metadata": {},
     "output_type": "display_data"
    }
   ],
   "source": [
    "\n",
    "\n",
    "from ipyleaflet import Map, Heatmap\n",
    "from random import uniform\n",
    "\n",
    "center = (stations_2016['latitude'][0], stations_2016['longitude'][0])\n",
    "\n",
    "m = Map(center=center, zoom=11)\n",
    "    \n",
    "heatmap = Heatmap(\n",
    "    locations=[[station['latitude'], station['longitude'], 7] for index, station in stations_2016.iterrows()],\n",
    "    radius=10\n",
    ")\n",
    "\n",
    "m.add_layer(heatmap);\n",
    "    \n",
    "m"
   ]
  }
 ],
 "metadata": {
  "kernelspec": {
   "display_name": "Python 3",
   "language": "python",
   "name": "python3"
  },
  "language_info": {
   "codemirror_mode": {
    "name": "ipython",
    "version": 3
   },
   "file_extension": ".py",
   "mimetype": "text/x-python",
   "name": "python",
   "nbconvert_exporter": "python",
   "pygments_lexer": "ipython3",
   "version": "3.7.6"
  }
 },
 "nbformat": 4,
 "nbformat_minor": 4
}
